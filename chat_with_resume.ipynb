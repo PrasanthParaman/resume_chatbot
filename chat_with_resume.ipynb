{
  "cells": [
    {
      "cell_type": "code",
      "execution_count": null,
      "id": "initial_id",
      "metadata": {
        "collapsed": true,
        "ExecuteTime": {
          "end_time": "2024-09-03T17:40:35.206249Z",
          "start_time": "2024-09-03T17:40:33.372750Z"
        },
        "id": "initial_id"
      },
      "outputs": [],
      "source": [
        "import os\n",
        "import openai\n",
        "from langchain.document_loaders import PyPDFLoader\n",
        "import re\n",
        "import json\n",
        "import nltk"
      ]
    },
    {
      "cell_type": "code",
      "outputs": [],
      "source": [
        "from dotenv import load_dotenv\n",
        "load_dotenv()\n",
        "openai.key = os.environ[\"OPENAI_API_KEY\"]"
      ],
      "metadata": {
        "ExecuteTime": {
          "end_time": "2024-09-03T17:40:35.215086Z",
          "start_time": "2024-09-03T17:40:35.207734Z"
        },
        "id": "f97e39bf7fea546c"
      },
      "id": "f97e39bf7fea546c",
      "execution_count": null
    },
    {
      "cell_type": "markdown",
      "source": [
        "### Document Loading"
      ],
      "metadata": {
        "collapsed": false,
        "id": "db0633867ff41734"
      },
      "id": "db0633867ff41734"
    },
    {
      "cell_type": "code",
      "outputs": [],
      "source": [
        "loader = PyPDFLoader('documents/Resume_Divya_Prasanth_Paraman.pdf')\n",
        "pages = loader.load()"
      ],
      "metadata": {
        "ExecuteTime": {
          "end_time": "2024-09-03T17:48:54.164713Z",
          "start_time": "2024-09-03T17:48:54.081362Z"
        },
        "id": "34b545b344eab886"
      },
      "id": "34b545b344eab886",
      "execution_count": null
    },
    {
      "cell_type": "code",
      "outputs": [
        {
          "data": {
            "text/plain": "'DIVYA PRASANTH PARAMAN\\nBloomington, Indiana. 47404\\ndparaman@iu.edu ⋄(812)·974·3423⋄LinkedIn: Divya Prasanth Paraman ⋄GitHub\\nEDUCATION\\nLuddy School of Informatics, Computing, and Engineering, Indiana University Bloomington May 2025\\nMaster of Science in Data Science CGPA: 3.95/4\\nKumaraguru College of Technology, Coimbatore, India\\nBachelor of Engineering in Electronics and Communication Engineering\\nPROFESSIONAL EXPERIENCE\\nIndiana University May 2024 - August 2024\\nFADS Research Fellow - NLP - Python, PyTorch, TensorFlow, Dockers Bloomington, IN\\n·Leveraged OpenAI’s Whisper for speech-to-text analysis, implemented speaker identification using Praat/n-gram models, and\\nperformed NLP analysis on vowel sounds via MFCC, resulting in an 80% reduction in manual data annotation; developed\\nmicroservices to streamline the entire process.\\nBounteous India September 2021 - July 2023\\nSenior Data Analyst - Python, Tableau, SQL, Hadoop, ETL, Apache Airﬂow, Supervised Machine Learning Chennai, India\\n·Freed up about 50% of manual labor hours for higher value tasks by developing an AI model that performs data taxonomy\\nwithin the proof of concept project.\\n·Scaled the business impact report generation across 1000+ customers by completely automating the process by building end-\\nto-end pipelines and Business Intelligence dashboards achieving a reduction in report development effort by 80%.\\n·Managed a team of three analytics professionals, successfully driving enhanced process adoption and implementing quality\\ncontrol measures that maintained the escalation rate consistently below 5%.\\nSoliton Technologies June 2019 - January 2021\\nSoftware Engineer - Core Python, Advanced OOPS/ Data Structures, SDLC, Agile, CI/CD Coimbatore, India\\n·Engineered a Python framework that resulted in a 2x acceleration in software development for GUI applications. These soft-\\nware enables end users to set up quickly and understand semiconductor devices with ease.\\n·Built modular code and enabled continuous integration and continuous deployment practices, ensuring efficiency.\\nSoliton Technologies July 2018 - May 2019\\nSoftware Engineer Intern - Web Development, Angular Coimbatore, India\\n·Developed SMILE, a web repository that encourages cross-functional team collaboration through sharing of reusable modules.\\nTECHNICAL STRENGTHS\\nProfessional Certifications TensorFlow Developer Certificate\\nIndustry Skills Scrum, Agile, Software Development Life Cycle Practices, Git\\nAI Frameworks LangChain, TensorFlow, PyTorch\\nProgramming Languages Python, SQL, R, C\\nDatabases PostgreSQL, MySQL, Hadoop, Hive\\nVisualisation Tools Tableau, Power BI, Microsoft Excel, Python(Matplotlib, Seaborn, Plotly)\\nStatistical Techniques Hypothesis Testing, Association Analysis, Anomaly Detection\\nACADEMIC PROJECTS\\nMovies Recommendation System - Graph Neural Networks, PyTorch, TensorFlow, PySpark May 2024\\n·Implemented and trained the state-of-the-art LightGCN model on 100k and 1M datasets using IU’s GPU services to achieve\\nparallelization, achieving 25% Recall@10 and 48% Precision@10.\\nHouse Price Prediction - Python, Pandas, Scikit-learn, Matplotlib, Seaborn, XGBoost March 2024\\n·Developed a model achieving an RMSE of 42K USD and MAE of 15% with proximity to ocean being the number 1 predictor.\\nCredit Risk Analysis - Python, Scikit-learn, Seaborn, Matplotlib, XGBoost, RandomForest, SVM December 2023\\n·Developed a model addressing class imbalance and achieving test accuracy of 67% and F1 score of 58%.'"
          },
          "execution_count": 28,
          "metadata": {},
          "output_type": "execute_result"
        }
      ],
      "source": [
        "pages[0].page_content"
      ],
      "metadata": {
        "ExecuteTime": {
          "end_time": "2024-09-03T17:48:54.924461Z",
          "start_time": "2024-09-03T17:48:54.916990Z"
        },
        "id": "743b9e9e32b0bffc",
        "outputId": "336c03a2-d99d-4d36-8051-9277549e89b7"
      },
      "id": "743b9e9e32b0bffc",
      "execution_count": null
    },
    {
      "cell_type": "markdown",
      "source": [
        "### Document Splitting"
      ],
      "metadata": {
        "collapsed": false,
        "id": "7420f47239ece553"
      },
      "id": "7420f47239ece553"
    },
    {
      "cell_type": "code",
      "outputs": [],
      "source": [
        "from langchain.text_splitter import RecursiveCharacterTextSplitter"
      ],
      "metadata": {
        "ExecuteTime": {
          "end_time": "2024-09-03T17:48:59.277694Z",
          "start_time": "2024-09-03T17:48:59.272826Z"
        },
        "id": "79192f851192c172"
      },
      "id": "79192f851192c172",
      "execution_count": null
    },
    {
      "cell_type": "code",
      "outputs": [],
      "source": [
        "section_keywords = [\n",
        "    re.compile(r\"experience\", re.IGNORECASE),\n",
        "    re.compile(r\"summary\", re.IGNORECASE),\n",
        "    re.compile(r\"education\", re.IGNORECASE),\n",
        "    re.compile(r\"projects\", re.IGNORECASE),\n",
        "    re.compile(r\"skills\", re.IGNORECASE),\n",
        "    re.compile(r\"achievements\", re.IGNORECASE)\n",
        "]"
      ],
      "metadata": {
        "ExecuteTime": {
          "end_time": "2024-09-03T17:48:59.756979Z",
          "start_time": "2024-09-03T17:48:59.754204Z"
        },
        "id": "3cec311ea7217c5"
      },
      "id": "3cec311ea7217c5",
      "execution_count": null
    },
    {
      "cell_type": "code",
      "outputs": [],
      "source": [
        "doc_splitter = RecursiveCharacterTextSplitter(\n",
        "    chunk_size=500,\n",
        "    chunk_overlap=0,\n",
        "    separators=[\"\\n\\n\", \"\\n\", \"\\. \", \" \", \"\"],\n",
        "    length_function=len\n",
        ")"
      ],
      "metadata": {
        "ExecuteTime": {
          "end_time": "2024-09-03T17:49:00.989356Z",
          "start_time": "2024-09-03T17:49:00.981730Z"
        },
        "id": "aab9004f5210d10c"
      },
      "id": "aab9004f5210d10c",
      "execution_count": null
    },
    {
      "cell_type": "code",
      "outputs": [
        {
          "data": {
            "text/plain": "[Document(metadata={'source': 'documents/Resume_Divya_Prasanth_Paraman.pdf', 'page': 0}, page_content='DIVYA PRASANTH PARAMAN\\nBloomington, Indiana. 47404\\ndparaman@iu.edu ⋄(812)·974·3423⋄LinkedIn: Divya Prasanth Paraman ⋄GitHub\\nEDUCATION\\nLuddy School of Informatics, Computing, and Engineering, Indiana University Bloomington May 2025\\nMaster of Science in Data Science CGPA: 3.95/4\\nKumaraguru College of Technology, Coimbatore, India\\nBachelor of Engineering in Electronics and Communication Engineering\\nPROFESSIONAL EXPERIENCE\\nIndiana University May 2024 - August 2024'),\n Document(metadata={'source': 'documents/Resume_Divya_Prasanth_Paraman.pdf', 'page': 0}, page_content='FADS Research Fellow - NLP - Python, PyTorch, TensorFlow, Dockers Bloomington, IN\\n·Leveraged OpenAI’s Whisper for speech-to-text analysis, implemented speaker identification using Praat/n-gram models, and\\nperformed NLP analysis on vowel sounds via MFCC, resulting in an 80% reduction in manual data annotation; developed\\nmicroservices to streamline the entire process.\\nBounteous India September 2021 - July 2023'),\n Document(metadata={'source': 'documents/Resume_Divya_Prasanth_Paraman.pdf', 'page': 0}, page_content='Senior Data Analyst - Python, Tableau, SQL, Hadoop, ETL, Apache Airﬂow, Supervised Machine Learning Chennai, India\\n·Freed up about 50% of manual labor hours for higher value tasks by developing an AI model that performs data taxonomy\\nwithin the proof of concept project.\\n·Scaled the business impact report generation across 1000+ customers by completely automating the process by building end-'),\n Document(metadata={'source': 'documents/Resume_Divya_Prasanth_Paraman.pdf', 'page': 0}, page_content='to-end pipelines and Business Intelligence dashboards achieving a reduction in report development effort by 80%.\\n·Managed a team of three analytics professionals, successfully driving enhanced process adoption and implementing quality\\ncontrol measures that maintained the escalation rate consistently below 5%.\\nSoliton Technologies June 2019 - January 2021\\nSoftware Engineer - Core Python, Advanced OOPS/ Data Structures, SDLC, Agile, CI/CD Coimbatore, India'),\n Document(metadata={'source': 'documents/Resume_Divya_Prasanth_Paraman.pdf', 'page': 0}, page_content='·Engineered a Python framework that resulted in a 2x acceleration in software development for GUI applications. These soft-\\nware enables end users to set up quickly and understand semiconductor devices with ease.\\n·Built modular code and enabled continuous integration and continuous deployment practices, ensuring efficiency.\\nSoliton Technologies July 2018 - May 2019\\nSoftware Engineer Intern - Web Development, Angular Coimbatore, India'),\n Document(metadata={'source': 'documents/Resume_Divya_Prasanth_Paraman.pdf', 'page': 0}, page_content='·Developed SMILE, a web repository that encourages cross-functional team collaboration through sharing of reusable modules.\\nTECHNICAL STRENGTHS\\nProfessional Certifications TensorFlow Developer Certificate\\nIndustry Skills Scrum, Agile, Software Development Life Cycle Practices, Git\\nAI Frameworks LangChain, TensorFlow, PyTorch\\nProgramming Languages Python, SQL, R, C\\nDatabases PostgreSQL, MySQL, Hadoop, Hive'),\n Document(metadata={'source': 'documents/Resume_Divya_Prasanth_Paraman.pdf', 'page': 0}, page_content='Visualisation Tools Tableau, Power BI, Microsoft Excel, Python(Matplotlib, Seaborn, Plotly)\\nStatistical Techniques Hypothesis Testing, Association Analysis, Anomaly Detection\\nACADEMIC PROJECTS\\nMovies Recommendation System - Graph Neural Networks, PyTorch, TensorFlow, PySpark May 2024\\n·Implemented and trained the state-of-the-art LightGCN model on 100k and 1M datasets using IU’s GPU services to achieve\\nparallelization, achieving 25% Recall@10 and 48% Precision@10.'),\n Document(metadata={'source': 'documents/Resume_Divya_Prasanth_Paraman.pdf', 'page': 0}, page_content='House Price Prediction - Python, Pandas, Scikit-learn, Matplotlib, Seaborn, XGBoost March 2024\\n·Developed a model achieving an RMSE of 42K USD and MAE of 15% with proximity to ocean being the number 1 predictor.\\nCredit Risk Analysis - Python, Scikit-learn, Seaborn, Matplotlib, XGBoost, RandomForest, SVM December 2023\\n·Developed a model addressing class imbalance and achieving test accuracy of 67% and F1 score of 58%.')]"
          },
          "execution_count": 32,
          "metadata": {},
          "output_type": "execute_result"
        }
      ],
      "source": [
        "docs = doc_splitter.split_documents(pages)\n",
        "docs"
      ],
      "metadata": {
        "ExecuteTime": {
          "end_time": "2024-09-03T17:49:01.394473Z",
          "start_time": "2024-09-03T17:49:01.387298Z"
        },
        "id": "7fb23c721490b004",
        "outputId": "2d9e4e82-9e4a-4ea0-dc2a-e61aee8f477d"
      },
      "id": "7fb23c721490b004",
      "execution_count": null
    },
    {
      "cell_type": "code",
      "outputs": [
        {
          "data": {
            "text/plain": "8"
          },
          "execution_count": 33,
          "metadata": {},
          "output_type": "execute_result"
        }
      ],
      "source": [
        "len(docs)"
      ],
      "metadata": {
        "ExecuteTime": {
          "end_time": "2024-09-03T17:49:02.626486Z",
          "start_time": "2024-09-03T17:49:02.620234Z"
        },
        "id": "b58b1fbc586cddce",
        "outputId": "08dd71f0-6c39-4283-9295-4c286662e38b"
      },
      "id": "b58b1fbc586cddce",
      "execution_count": null
    },
    {
      "cell_type": "code",
      "outputs": [],
      "source": [
        "# let us try splitting using markdown header splitter\n",
        "from langchain.text_splitter import MarkdownHeaderTextSplitter"
      ],
      "metadata": {
        "ExecuteTime": {
          "end_time": "2024-09-03T17:49:04.422989Z",
          "start_time": "2024-09-03T17:49:04.416369Z"
        },
        "id": "1c1f7f792960ab52"
      },
      "id": "1c1f7f792960ab52",
      "execution_count": null
    },
    {
      "cell_type": "code",
      "outputs": [],
      "source": [
        "markdown_splitters = [\n",
        "    (\"PROFESSIONAL EXPERIENCE\", \"experience\"),\n",
        "    (\"EDUCATION\", \"education\"),\n",
        "    (\"ACADEMIC PROJECTS\", \"projects\"),\n",
        "    (\"TECHNICAL STRENGTHS\", \"skills\"),\n",
        "]"
      ],
      "metadata": {
        "ExecuteTime": {
          "end_time": "2024-09-03T17:49:05.472351Z",
          "start_time": "2024-09-03T17:49:05.468528Z"
        },
        "id": "23e222ffce28b780"
      },
      "id": "23e222ffce28b780",
      "execution_count": null
    },
    {
      "cell_type": "code",
      "outputs": [],
      "source": [
        "splitter_markdown = MarkdownHeaderTextSplitter(headers_to_split_on=markdown_splitters)"
      ],
      "metadata": {
        "ExecuteTime": {
          "end_time": "2024-09-03T17:49:07.650069Z",
          "start_time": "2024-09-03T17:49:07.643045Z"
        },
        "id": "afc9659f89d0aa5d"
      },
      "id": "afc9659f89d0aa5d",
      "execution_count": null
    },
    {
      "cell_type": "code",
      "outputs": [],
      "source": [
        "docs = splitter_markdown.split_text(pages[0].page_content)"
      ],
      "metadata": {
        "ExecuteTime": {
          "end_time": "2024-09-03T17:49:08.462780Z",
          "start_time": "2024-09-03T17:49:08.458396Z"
        },
        "id": "368c72c2cfd88ca6"
      },
      "id": "368c72c2cfd88ca6",
      "execution_count": null
    },
    {
      "cell_type": "code",
      "outputs": [
        {
          "data": {
            "text/plain": "5"
          },
          "execution_count": 38,
          "metadata": {},
          "output_type": "execute_result"
        }
      ],
      "source": [
        "len(docs)"
      ],
      "metadata": {
        "ExecuteTime": {
          "end_time": "2024-09-03T17:49:09.788735Z",
          "start_time": "2024-09-03T17:49:09.781258Z"
        },
        "id": "3553bd83b56e721a",
        "outputId": "28a55549-2df3-4a61-e5a7-9b0115a0cdf9"
      },
      "id": "3553bd83b56e721a",
      "execution_count": null
    },
    {
      "cell_type": "code",
      "outputs": [],
      "source": [
        "for index, each in enumerate(docs):\n",
        "    each.metadata = {'header': ['contact'] if index==0 else list(each.metadata.keys())}"
      ],
      "metadata": {
        "ExecuteTime": {
          "end_time": "2024-09-03T17:49:12.784897Z",
          "start_time": "2024-09-03T17:49:12.749404Z"
        },
        "id": "59dac13001b887b0"
      },
      "id": "59dac13001b887b0",
      "execution_count": null
    },
    {
      "cell_type": "code",
      "outputs": [
        {
          "data": {
            "text/plain": "[Document(metadata={'header': ['contact']}, page_content='DIVYA PRASANTH PARAMAN\\nBloomington, Indiana. 47404\\ndparaman@iu.edu ⋄(812)·974·3423⋄LinkedIn: Divya Prasanth Paraman ⋄GitHub'),\n Document(metadata={'header': ['education']}, page_content='Luddy School of Informatics, Computing, and Engineering, Indiana University Bloomington May 2025\\nMaster of Science in Data Science CGPA: 3.95/4\\nKumaraguru College of Technology, Coimbatore, India\\nBachelor of Engineering in Electronics and Communication Engineering'),\n Document(metadata={'header': ['experience']}, page_content='Indiana University May 2024 - August 2024\\nFADS Research Fellow - NLP - Python, PyTorch, TensorFlow, Dockers Bloomington, IN\\n·Leveraged OpenAI’s Whisper for speech-to-text analysis, implemented speaker identification using Praat/n-gram models, and\\nperformed NLP analysis on vowel sounds via MFCC, resulting in an 80% reduction in manual data annotation; developed\\nmicroservices to streamline the entire process.\\nBounteous India September 2021 - July 2023\\nSenior Data Analyst - Python, Tableau, SQL, Hadoop, ETL, Apache Airﬂow, Supervised Machine Learning Chennai, India\\n·Freed up about 50% of manual labor hours for higher value tasks by developing an AI model that performs data taxonomy\\nwithin the proof of concept project.\\n·Scaled the business impact report generation across 1000+ customers by completely automating the process by building end-\\nto-end pipelines and Business Intelligence dashboards achieving a reduction in report development effort by 80%.\\n·Managed a team of three analytics professionals, successfully driving enhanced process adoption and implementing quality\\ncontrol measures that maintained the escalation rate consistently below 5%.\\nSoliton Technologies June 2019 - January 2021\\nSoftware Engineer - Core Python, Advanced OOPS/ Data Structures, SDLC, Agile, CI/CD Coimbatore, India\\n·Engineered a Python framework that resulted in a 2x acceleration in software development for GUI applications. These soft-\\nware enables end users to set up quickly and understand semiconductor devices with ease.\\n·Built modular code and enabled continuous integration and continuous deployment practices, ensuring efficiency.\\nSoliton Technologies July 2018 - May 2019\\nSoftware Engineer Intern - Web Development, Angular Coimbatore, India\\n·Developed SMILE, a web repository that encourages cross-functional team collaboration through sharing of reusable modules.'),\n Document(metadata={'header': ['skills']}, page_content='Professional Certifications TensorFlow Developer Certificate\\nIndustry Skills Scrum, Agile, Software Development Life Cycle Practices, Git\\nAI Frameworks LangChain, TensorFlow, PyTorch\\nProgramming Languages Python, SQL, R, C\\nDatabases PostgreSQL, MySQL, Hadoop, Hive\\nVisualisation Tools Tableau, Power BI, Microsoft Excel, Python(Matplotlib, Seaborn, Plotly)\\nStatistical Techniques Hypothesis Testing, Association Analysis, Anomaly Detection'),\n Document(metadata={'header': ['projects']}, page_content='Movies Recommendation System - Graph Neural Networks, PyTorch, TensorFlow, PySpark May 2024\\n·Implemented and trained the state-of-the-art LightGCN model on 100k and 1M datasets using IU’s GPU services to achieve\\nparallelization, achieving 25% Recall@10 and 48% Precision@10.\\nHouse Price Prediction - Python, Pandas, Scikit-learn, Matplotlib, Seaborn, XGBoost March 2024\\n·Developed a model achieving an RMSE of 42K USD and MAE of 15% with proximity to ocean being the number 1 predictor.\\nCredit Risk Analysis - Python, Scikit-learn, Seaborn, Matplotlib, XGBoost, RandomForest, SVM December 2023\\n·Developed a model addressing class imbalance and achieving test accuracy of 67% and F1 score of 58%.')]"
          },
          "execution_count": 40,
          "metadata": {},
          "output_type": "execute_result"
        }
      ],
      "source": [
        "docs"
      ],
      "metadata": {
        "ExecuteTime": {
          "end_time": "2024-09-03T17:49:13.944938Z",
          "start_time": "2024-09-03T17:49:13.939745Z"
        },
        "id": "644bb442e5b9392",
        "outputId": "d3d1eb0d-b5f8-409f-ee28-3d1d48ce1f3c"
      },
      "id": "644bb442e5b9392",
      "execution_count": null
    },
    {
      "cell_type": "code",
      "outputs": [],
      "source": [
        "from pinecone import Pinecone, ServerlessSpec\n",
        "from langchain_pinecone import PineconeVectorStore\n",
        "\n",
        "pc = Pinecone(api_key=os.environ[\"PINECONE_API_KEY\"])"
      ],
      "metadata": {
        "ExecuteTime": {
          "end_time": "2024-09-03T17:49:19.345485Z",
          "start_time": "2024-09-03T17:49:19.311754Z"
        },
        "id": "ec404e64c9a89c38"
      },
      "id": "ec404e64c9a89c38",
      "execution_count": null
    },
    {
      "cell_type": "code",
      "outputs": [],
      "source": [
        "pc.delete_index(\"pinecone-index-resume-chatbot\")"
      ],
      "metadata": {
        "ExecuteTime": {
          "end_time": "2024-09-03T17:49:25.247370Z",
          "start_time": "2024-09-03T17:49:19.872672Z"
        },
        "id": "7b52850e0b084797"
      },
      "id": "7b52850e0b084797",
      "execution_count": null
    },
    {
      "cell_type": "code",
      "outputs": [],
      "source": [
        "pc.create_index(\n",
        "    name='pinecone-index-resume-chatbot',\n",
        "    dimension=1536,\n",
        "    metric='cosine',\n",
        "    spec=ServerlessSpec(\n",
        "        cloud=\"aws\",\n",
        "        region=\"us-east-1\"\n",
        "    )\n",
        ")"
      ],
      "metadata": {
        "ExecuteTime": {
          "end_time": "2024-09-03T17:49:48.926037Z",
          "start_time": "2024-09-03T17:49:43.398999Z"
        },
        "id": "676c3d59a7b3cb8c"
      },
      "id": "676c3d59a7b3cb8c",
      "execution_count": null
    },
    {
      "cell_type": "code",
      "outputs": [
        {
          "data": {
            "text/plain": "{'dimension': 1536,\n 'index_fullness': 0.0,\n 'namespaces': {'': {'vector_count': 5}},\n 'total_vector_count': 5}"
          },
          "execution_count": 59,
          "metadata": {},
          "output_type": "execute_result"
        }
      ],
      "source": [
        "index = pc.Index(\"pinecone-index-resume-chatbot\")\n",
        "index.describe_index_stats()"
      ],
      "metadata": {
        "ExecuteTime": {
          "end_time": "2024-09-03T18:14:59.671636Z",
          "start_time": "2024-09-03T18:14:59.347454Z"
        },
        "id": "c88d78960466cbe2",
        "outputId": "0f27cd32-4c94-483d-cf31-43f1b0ed4fd9"
      },
      "id": "c88d78960466cbe2",
      "execution_count": null
    },
    {
      "cell_type": "code",
      "outputs": [],
      "source": [
        "from langchain_openai import OpenAIEmbeddings\n",
        "embedding_model = OpenAIEmbeddings(openai_api_key=os.environ[\"OPENAI_API_KEY\"])"
      ],
      "metadata": {
        "ExecuteTime": {
          "end_time": "2024-09-03T17:50:04.919654Z",
          "start_time": "2024-09-03T17:50:04.859855Z"
        },
        "id": "1ae2b4cbd2b9e6a6"
      },
      "id": "1ae2b4cbd2b9e6a6",
      "execution_count": null
    },
    {
      "cell_type": "code",
      "outputs": [],
      "source": [
        "vectorstore = PineconeVectorStore.from_documents(\n",
        "    docs,\n",
        "    embedding_model,\n",
        "    index_name=\"pinecone-index-resume-chatbot\"\n",
        ")"
      ],
      "metadata": {
        "ExecuteTime": {
          "end_time": "2024-09-03T17:50:08.620115Z",
          "start_time": "2024-09-03T17:50:07.057531Z"
        },
        "id": "c6ccbf6e2578cd51"
      },
      "id": "c6ccbf6e2578cd51",
      "execution_count": null
    },
    {
      "cell_type": "markdown",
      "source": [
        "### Self-Query Retriever"
      ],
      "metadata": {
        "collapsed": false,
        "id": "d61b0b8b68eb82ab"
      },
      "id": "d61b0b8b68eb82ab"
    },
    {
      "cell_type": "code",
      "outputs": [],
      "source": [
        "from langchain.chains import RetrievalQA\n",
        "from langchain_openai import OpenAI\n",
        "from langchain.retrievers.self_query.base import SelfQueryRetriever"
      ],
      "metadata": {
        "ExecuteTime": {
          "end_time": "2024-09-03T17:50:37.714934Z",
          "start_time": "2024-09-03T17:50:37.708192Z"
        },
        "id": "e2a2b848365225b9"
      },
      "id": "e2a2b848365225b9",
      "execution_count": null
    },
    {
      "cell_type": "code",
      "outputs": [],
      "source": [
        "document_description = 'resume'\n",
        "llm = OpenAI(model='gpt-3.5-turbo-instruct', temperature=0)"
      ],
      "metadata": {
        "ExecuteTime": {
          "end_time": "2024-09-03T17:50:38.858177Z",
          "start_time": "2024-09-03T17:50:38.833734Z"
        },
        "id": "8206669d18a84daa"
      },
      "id": "8206669d18a84daa",
      "execution_count": null
    },
    {
      "cell_type": "code",
      "outputs": [],
      "source": [
        "from langchain.chains.query_constructor.base import AttributeInfo\n",
        "\n",
        "metadata_field_info = [\n",
        "    AttributeInfo(\n",
        "        name=\"headers\",\n",
        "        description=\"A list of headers indicating the topics or sections within the document chunk\",\n",
        "        type=\"list[string]\"\n",
        "    )\n",
        "]"
      ],
      "metadata": {
        "ExecuteTime": {
          "end_time": "2024-09-03T17:50:50.832378Z",
          "start_time": "2024-09-03T17:50:50.826171Z"
        },
        "id": "264b99e84dc07cb2"
      },
      "id": "264b99e84dc07cb2",
      "execution_count": null
    },
    {
      "cell_type": "code",
      "outputs": [],
      "source": [
        "document_content_description = \"A chat with resume\"\n",
        "retriever = SelfQueryRetriever.from_llm(\n",
        "    llm,\n",
        "    vectorstore,\n",
        "    document_content_description,\n",
        "    metadata_field_info,\n",
        "    enable_limit=True,\n",
        "    verbose=True\n",
        ")"
      ],
      "metadata": {
        "ExecuteTime": {
          "end_time": "2024-09-03T18:18:23.890283Z",
          "start_time": "2024-09-03T18:18:23.841824Z"
        },
        "id": "fe4bbb6c4d4e5864"
      },
      "id": "fe4bbb6c4d4e5864",
      "execution_count": null
    },
    {
      "cell_type": "code",
      "outputs": [
        {
          "data": {
            "text/plain": "[Document(metadata={'header': ['projects']}, page_content='Movies Recommendation System - Graph Neural Networks, PyTorch, TensorFlow, PySpark May 2024\\n·Implemented and trained the state-of-the-art LightGCN model on 100k and 1M datasets using IU’s GPU services to achieve\\nparallelization, achieving 25% Recall@10 and 48% Precision@10.\\nHouse Price Prediction - Python, Pandas, Scikit-learn, Matplotlib, Seaborn, XGBoost March 2024\\n·Developed a model achieving an RMSE of 42K USD and MAE of 15% with proximity to ocean being the number 1 predictor.\\nCredit Risk Analysis - Python, Scikit-learn, Seaborn, Matplotlib, XGBoost, RandomForest, SVM December 2023\\n·Developed a model addressing class imbalance and achieving test accuracy of 67% and F1 score of 58%.'),\n Document(metadata={'header': ['education']}, page_content='Luddy School of Informatics, Computing, and Engineering, Indiana University Bloomington May 2025\\nMaster of Science in Data Science CGPA: 3.95/4\\nKumaraguru College of Technology, Coimbatore, India\\nBachelor of Engineering in Electronics and Communication Engineering'),\n Document(metadata={'header': ['experience']}, page_content='Indiana University May 2024 - August 2024\\nFADS Research Fellow - NLP - Python, PyTorch, TensorFlow, Dockers Bloomington, IN\\n·Leveraged OpenAI’s Whisper for speech-to-text analysis, implemented speaker identification using Praat/n-gram models, and\\nperformed NLP analysis on vowel sounds via MFCC, resulting in an 80% reduction in manual data annotation; developed\\nmicroservices to streamline the entire process.\\nBounteous India September 2021 - July 2023\\nSenior Data Analyst - Python, Tableau, SQL, Hadoop, ETL, Apache Airﬂow, Supervised Machine Learning Chennai, India\\n·Freed up about 50% of manual labor hours for higher value tasks by developing an AI model that performs data taxonomy\\nwithin the proof of concept project.\\n·Scaled the business impact report generation across 1000+ customers by completely automating the process by building end-\\nto-end pipelines and Business Intelligence dashboards achieving a reduction in report development effort by 80%.\\n·Managed a team of three analytics professionals, successfully driving enhanced process adoption and implementing quality\\ncontrol measures that maintained the escalation rate consistently below 5%.\\nSoliton Technologies June 2019 - January 2021\\nSoftware Engineer - Core Python, Advanced OOPS/ Data Structures, SDLC, Agile, CI/CD Coimbatore, India\\n·Engineered a Python framework that resulted in a 2x acceleration in software development for GUI applications. These soft-\\nware enables end users to set up quickly and understand semiconductor devices with ease.\\n·Built modular code and enabled continuous integration and continuous deployment practices, ensuring efficiency.\\nSoliton Technologies July 2018 - May 2019\\nSoftware Engineer Intern - Web Development, Angular Coimbatore, India\\n·Developed SMILE, a web repository that encourages cross-functional team collaboration through sharing of reusable modules.'),\n Document(metadata={'header': ['skills']}, page_content='Professional Certifications TensorFlow Developer Certificate\\nIndustry Skills Scrum, Agile, Software Development Life Cycle Practices, Git\\nAI Frameworks LangChain, TensorFlow, PyTorch\\nProgramming Languages Python, SQL, R, C\\nDatabases PostgreSQL, MySQL, Hadoop, Hive\\nVisualisation Tools Tableau, Power BI, Microsoft Excel, Python(Matplotlib, Seaborn, Plotly)\\nStatistical Techniques Hypothesis Testing, Association Analysis, Anomaly Detection')]"
          },
          "execution_count": 72,
          "metadata": {},
          "output_type": "execute_result"
        }
      ],
      "source": [
        "retriever.invoke(\"project he worked on related to recommendation system\")"
      ],
      "metadata": {
        "ExecuteTime": {
          "end_time": "2024-09-03T18:24:29.952361Z",
          "start_time": "2024-09-03T18:24:28.886920Z"
        },
        "id": "f0041f72a71276e6",
        "outputId": "15e2e537-511f-49d2-ec39-b24988197f0d"
      },
      "id": "f0041f72a71276e6",
      "execution_count": null
    },
    {
      "cell_type": "markdown",
      "source": [
        "### Let's try using the FAISS vector store"
      ],
      "metadata": {
        "collapsed": false,
        "id": "b04504775266ce3"
      },
      "id": "b04504775266ce3"
    },
    {
      "cell_type": "code",
      "outputs": [],
      "source": [
        "import faiss\n",
        "from langchain_community.docstore.in_memory import InMemoryDocstore\n",
        "from langchain_community.vectorstores import FAISS\n",
        "import uuid\n",
        "\n",
        "index = faiss.IndexFlatL2(len(embedding_model.embed_query(\"hello world\")))"
      ],
      "metadata": {
        "ExecuteTime": {
          "end_time": "2024-09-03T18:29:27.363200Z",
          "start_time": "2024-09-03T18:29:26.880043Z"
        },
        "id": "f48a1bca05eaf9b4"
      },
      "id": "f48a1bca05eaf9b4",
      "execution_count": null
    },
    {
      "cell_type": "code",
      "outputs": [],
      "source": [
        "vector_store_faiss = FAISS(embedding_model, index, docstore=InMemoryDocstore(), index_to_docstore_id={})"
      ],
      "metadata": {
        "ExecuteTime": {
          "end_time": "2024-09-03T18:28:36.833651Z",
          "start_time": "2024-09-03T18:28:36.825957Z"
        },
        "id": "586f302cf9541a34"
      },
      "id": "586f302cf9541a34",
      "execution_count": null
    },
    {
      "cell_type": "code",
      "outputs": [
        {
          "data": {
            "text/plain": "['6862ba30-ca59-4f1a-b286-e569d07c701e',\n 'b7b99550-e639-408a-a3f8-61ccf1296ea5',\n 'c00efb4f-2fdb-422f-b240-910c10dced76',\n '68af6ba8-53f1-4338-acc4-4b44758219cf',\n '25fa2428-cfb6-4e6c-8b80-95355cd49a75']"
          },
          "execution_count": 76,
          "metadata": {},
          "output_type": "execute_result"
        }
      ],
      "source": [
        "uuids = [str(uuid.uuid4()) for _ in range(len(docs))]\n",
        "\n",
        "vector_store_faiss.add_documents(documents=docs, ids=uuids)"
      ],
      "metadata": {
        "ExecuteTime": {
          "end_time": "2024-09-03T18:30:49.660526Z",
          "start_time": "2024-09-03T18:30:49.283333Z"
        },
        "id": "15f36617f5537878",
        "outputId": "1aaa572c-ddb6-46b8-cd34-f8c91460e3cb"
      },
      "id": "15f36617f5537878",
      "execution_count": null
    },
    {
      "cell_type": "code",
      "outputs": [
        {
          "name": "stdout",
          "output_type": "stream",
          "text": [
            "Indiana University May 2024 - August 2024\n",
            "FADS Research Fellow - NLP - Python, PyTorch, TensorFlow, Dockers Bloomington, IN\n",
            "·Leveraged OpenAI’s Whisper for speech-to-text analysis, implemented speaker identification using Praat/n-gram models, and\n",
            "performed NLP analysis on vowel sounds via MFCC, resulting in an 80% reduction in manual data annotation; developed\n",
            "microservices to streamline the entire process.\n",
            "Bounteous India September 2021 - July 2023\n",
            "Senior Data Analyst - Python, Tableau, SQL, Hadoop, ETL, Apache Airﬂow, Supervised Machine Learning Chennai, India\n",
            "·Freed up about 50% of manual labor hours for higher value tasks by developing an AI model that performs data taxonomy\n",
            "within the proof of concept project.\n",
            "·Scaled the business impact report generation across 1000+ customers by completely automating the process by building end-\n",
            "to-end pipelines and Business Intelligence dashboards achieving a reduction in report development effort by 80%.\n",
            "·Managed a team of three analytics professionals, successfully driving enhanced process adoption and implementing quality\n",
            "control measures that maintained the escalation rate consistently below 5%.\n",
            "Soliton Technologies June 2019 - January 2021\n",
            "Software Engineer - Core Python, Advanced OOPS/ Data Structures, SDLC, Agile, CI/CD Coimbatore, India\n",
            "·Engineered a Python framework that resulted in a 2x acceleration in software development for GUI applications. These soft-\n",
            "ware enables end users to set up quickly and understand semiconductor devices with ease.\n",
            "·Built modular code and enabled continuous integration and continuous deployment practices, ensuring efficiency.\n",
            "Soliton Technologies July 2018 - May 2019\n",
            "Software Engineer Intern - Web Development, Angular Coimbatore, India\n",
            "·Developed SMILE, a web repository that encourages cross-functional team collaboration through sharing of reusable modules.\n"
          ]
        }
      ],
      "source": [
        "results = vector_store_faiss.similarity_search(\n",
        "    \"provide his experience\",\n",
        "    k=1\n",
        ")\n",
        "\n",
        "for result in results:\n",
        "    print(f\"{result.page_content}\")"
      ],
      "metadata": {
        "ExecuteTime": {
          "end_time": "2024-09-03T18:33:34.461917Z",
          "start_time": "2024-09-03T18:33:14.064291Z"
        },
        "id": "dd3797c95a6e1983",
        "outputId": "7300c325-fdd5-4684-feff-ce5092611e5c"
      },
      "id": "dd3797c95a6e1983",
      "execution_count": null
    },
    {
      "cell_type": "markdown",
      "source": [
        "### Building a QA Chain"
      ],
      "metadata": {
        "collapsed": false,
        "id": "16ad7f690a3a7b3d"
      },
      "id": "16ad7f690a3a7b3d"
    },
    {
      "cell_type": "code",
      "outputs": [],
      "source": [
        "llm2 = OpenAI(model='gpt-3.5-turbo-instruct', temperature=0)"
      ],
      "metadata": {
        "ExecuteTime": {
          "end_time": "2024-09-05T16:22:44.213446Z",
          "start_time": "2024-09-05T16:22:44.085482Z"
        },
        "id": "871ff144908c0687"
      },
      "id": "871ff144908c0687",
      "execution_count": null
    },
    {
      "cell_type": "code",
      "outputs": [],
      "source": [
        "from langchain.chains import RetrievalQA\n",
        "from langchain.prompts import PromptTemplate\n",
        "\n",
        "template = \"\"\"\n",
        "Use the following to answer the question at the end. If you don't know the answer, just say that you don't know the answer, don't try to make up an answer. Use three sentences maximum and keep the answer as concise as possible. Always end with \"Thanks for asking!\".\n",
        "{context}\n",
        "Question: {question}\n",
        "Helpful answer:\"\"\"\n",
        "qa_prompt = PromptTemplate.from_template(template)"
      ],
      "metadata": {
        "ExecuteTime": {
          "end_time": "2024-09-05T16:27:16.715890Z",
          "start_time": "2024-09-05T16:27:16.683221Z"
        },
        "id": "b53827858bd9d45c"
      },
      "id": "b53827858bd9d45c",
      "execution_count": null
    },
    {
      "cell_type": "code",
      "outputs": [],
      "source": [
        "qa_chain = RetrievalQA.from_chain_type(\n",
        "    llm=llm2,  # Make sure llm2 is an instance of a language model\n",
        "    retriever=vectorstore.as_retriever(),  # Correct spelling of 'retriever'\n",
        "    return_source_documents=True,\n",
        "    chain_type_kwargs={\"prompt\": qa_prompt}\n",
        ")"
      ],
      "metadata": {
        "ExecuteTime": {
          "end_time": "2024-09-05T16:33:34.693564Z",
          "start_time": "2024-09-05T16:33:34.670890Z"
        },
        "id": "a624a90969081cf5"
      },
      "id": "a624a90969081cf5",
      "execution_count": null
    },
    {
      "cell_type": "code",
      "outputs": [
        {
          "data": {
            "text/plain": "{'query': 'how many years experience does he have excluding education?',\n 'result': ' Divya Prasanth Paraman has approximately 4 years of experience excluding education. Thanks for asking!',\n 'source_documents': [Document(metadata={'header': ['education']}, page_content='Luddy School of Informatics, Computing, and Engineering, Indiana University Bloomington May 2025\\nMaster of Science in Data Science CGPA: 3.95/4\\nKumaraguru College of Technology, Coimbatore, India\\nBachelor of Engineering in Electronics and Communication Engineering'),\n  Document(metadata={'header': ['skills']}, page_content='Professional Certifications TensorFlow Developer Certificate\\nIndustry Skills Scrum, Agile, Software Development Life Cycle Practices, Git\\nAI Frameworks LangChain, TensorFlow, PyTorch\\nProgramming Languages Python, SQL, R, C\\nDatabases PostgreSQL, MySQL, Hadoop, Hive\\nVisualisation Tools Tableau, Power BI, Microsoft Excel, Python(Matplotlib, Seaborn, Plotly)\\nStatistical Techniques Hypothesis Testing, Association Analysis, Anomaly Detection'),\n  Document(metadata={'header': ['experience']}, page_content='Indiana University May 2024 - August 2024\\nFADS Research Fellow - NLP - Python, PyTorch, TensorFlow, Dockers Bloomington, IN\\n·Leveraged OpenAI’s Whisper for speech-to-text analysis, implemented speaker identification using Praat/n-gram models, and\\nperformed NLP analysis on vowel sounds via MFCC, resulting in an 80% reduction in manual data annotation; developed\\nmicroservices to streamline the entire process.\\nBounteous India September 2021 - July 2023\\nSenior Data Analyst - Python, Tableau, SQL, Hadoop, ETL, Apache Airﬂow, Supervised Machine Learning Chennai, India\\n·Freed up about 50% of manual labor hours for higher value tasks by developing an AI model that performs data taxonomy\\nwithin the proof of concept project.\\n·Scaled the business impact report generation across 1000+ customers by completely automating the process by building end-\\nto-end pipelines and Business Intelligence dashboards achieving a reduction in report development effort by 80%.\\n·Managed a team of three analytics professionals, successfully driving enhanced process adoption and implementing quality\\ncontrol measures that maintained the escalation rate consistently below 5%.\\nSoliton Technologies June 2019 - January 2021\\nSoftware Engineer - Core Python, Advanced OOPS/ Data Structures, SDLC, Agile, CI/CD Coimbatore, India\\n·Engineered a Python framework that resulted in a 2x acceleration in software development for GUI applications. These soft-\\nware enables end users to set up quickly and understand semiconductor devices with ease.\\n·Built modular code and enabled continuous integration and continuous deployment practices, ensuring efficiency.\\nSoliton Technologies July 2018 - May 2019\\nSoftware Engineer Intern - Web Development, Angular Coimbatore, India\\n·Developed SMILE, a web repository that encourages cross-functional team collaboration through sharing of reusable modules.'),\n  Document(metadata={'header': ['contact']}, page_content='DIVYA PRASANTH PARAMAN\\nBloomington, Indiana. 47404\\ndparaman@iu.edu ⋄(812)·974·3423⋄LinkedIn: Divya Prasanth Paraman ⋄GitHub')]}"
          },
          "execution_count": 97,
          "metadata": {},
          "output_type": "execute_result"
        }
      ],
      "source": [
        "question = \"how many years experience does he have excluding education?\"\n",
        "qa_chain({\"query\": question})"
      ],
      "metadata": {
        "ExecuteTime": {
          "end_time": "2024-09-05T16:36:33.449273Z",
          "start_time": "2024-09-05T16:36:32.564785Z"
        },
        "id": "5ab9b6391147c760",
        "outputId": "b0aa6fe9-822b-4bc2-cbbc-d602caad86c3"
      },
      "id": "5ab9b6391147c760",
      "execution_count": null
    },
    {
      "cell_type": "markdown",
      "source": [
        "### Including Memory"
      ],
      "metadata": {
        "collapsed": false,
        "id": "6611cd879b5d57ac"
      },
      "id": "6611cd879b5d57ac"
    },
    {
      "cell_type": "code",
      "outputs": [],
      "source": [
        "from langchain.memory import ConversationBufferMemory\n",
        "\n",
        "memory = ConversationBufferMemory(\n",
        "    memory_key=\"chat_history\",\n",
        "    return_messages=True\n",
        ")"
      ],
      "metadata": {
        "ExecuteTime": {
          "end_time": "2024-09-06T04:04:56.001103Z",
          "start_time": "2024-09-06T04:04:55.854249Z"
        },
        "id": "e00e8e51cf08fa50"
      },
      "id": "e00e8e51cf08fa50",
      "execution_count": null
    },
    {
      "cell_type": "code",
      "outputs": [],
      "source": [
        "from langchain.chains import ConversationalRetrievalChain\n",
        "\n",
        "qa = ConversationalRetrievalChain.from_llm(\n",
        "    llm,\n",
        "    retriever=vectorstore.as_retriever(),\n",
        "    memory=memory\n",
        ")"
      ],
      "metadata": {
        "ExecuteTime": {
          "end_time": "2024-09-06T04:06:05.084446Z",
          "start_time": "2024-09-06T04:06:05.068635Z"
        },
        "id": "b88f40dece4ef4d"
      },
      "id": "b88f40dece4ef4d",
      "execution_count": null
    },
    {
      "cell_type": "code",
      "outputs": [
        {
          "data": {
            "text/plain": "'\\n\\nBased on the context provided, it appears that Divya Prasanth Paraman has experience in software engineering through his roles at Soliton Technologies and Luddy School of Informatics, Computing, and Engineering. At Soliton Technologies, he worked as a Software Engineer and developed a Python framework that resulted in a 2x acceleration in software development for GUI applications. He also built modular code and enabled continuous integration and continuous deployment practices. As a Software Engineer Intern at Soliton Technologies, he worked on web development and developed a web repository called SMILE that encourages cross-functional team collaboration. Additionally, at Luddy School of Informatics, Computing, and Engineering, he is pursuing a Master of Science in Data Science, which may also involve software engineering coursework and projects.'"
          },
          "execution_count": 104,
          "metadata": {},
          "output_type": "execute_result"
        }
      ],
      "source": [
        "question = \"Does he have software engineering experience?\"\n",
        "result = qa({\"question\": question})\n",
        "result['answer']"
      ],
      "metadata": {
        "ExecuteTime": {
          "end_time": "2024-09-06T04:07:57.633260Z",
          "start_time": "2024-09-06T04:07:35.101144Z"
        },
        "id": "94d454f55e979537",
        "outputId": "4ab67bbd-1bfa-4081-9a68-68a092395365"
      },
      "id": "94d454f55e979537",
      "execution_count": null
    },
    {
      "cell_type": "code",
      "outputs": [
        {
          "data": {
            "text/plain": "\" In his software engineering experience, he has used Python, PyTorch, TensorFlow, Dockers, Praat, n-gram models, MFCC, OpenAI's Whisper, Tableau, SQL, Hadoop, ETL, Apache Airflow, Supervised Machine Learning, Advanced OOPS/Data Structures, SDLC, Agile, CI/CD, Angular, Pandas, Scikit-learn, Matplotlib, Seaborn, XGBoost, and RandomForest.\""
          },
          "execution_count": 105,
          "metadata": {},
          "output_type": "execute_result"
        }
      ],
      "source": [
        "result = qa({\"question\": \"What kind of relevant tools has he used?\"})\n",
        "result['answer']"
      ],
      "metadata": {
        "ExecuteTime": {
          "end_time": "2024-09-06T04:08:55.012485Z",
          "start_time": "2024-09-06T04:08:52.547766Z"
        },
        "id": "f2fbb3237418d2b7",
        "outputId": "f1c73848-5141-43cc-e6df-055015fed803"
      },
      "id": "f2fbb3237418d2b7",
      "execution_count": null
    },
    {
      "cell_type": "code",
      "outputs": [],
      "source": [],
      "metadata": {
        "id": "e48cef97f4c31c51"
      },
      "id": "e48cef97f4c31c51",
      "execution_count": null
    }
  ],
  "metadata": {
    "kernelspec": {
      "display_name": "Python 3",
      "language": "python",
      "name": "python3"
    },
    "language_info": {
      "codemirror_mode": {
        "name": "ipython",
        "version": 2
      },
      "file_extension": ".py",
      "mimetype": "text/x-python",
      "name": "python",
      "nbconvert_exporter": "python",
      "pygments_lexer": "ipython2",
      "version": "2.7.6"
    },
    "colab": {
      "provenance": []
    }
  },
  "nbformat": 4,
  "nbformat_minor": 5
}